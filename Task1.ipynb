{
 "cells": [
  {
   "cell_type": "markdown",
   "metadata": {},
   "source": [
    "# GMIT HDip Data Analysis 2020. Machine Learning and Statistics  \n",
    "\n",
    "### Task 1 : Obtain approximation of $\\sqrt{2}$ to 100 decimal places in Python (without using library functions)\n"
   ]
  },
  {
   "cell_type": "markdown",
   "metadata": {},
   "source": [
    "$\\sqrt{2}$ is an irrational number - it cannot be rendered exactly as a fraction, or in decimal notation, no matter how many decimal places are specified [1].   \n",
    "One way of approximating the value is provided by Newton's Method. An iteration using the formula $$x_{n+1} = \\frac{1}{2}(x_n + \\frac{a}{x_n}) $$ approximates the $\\sqrt{a}$, with each subsequent value of $x_{n+1}$ being closer to the actual value than $x_n$. A simple explanation of how it works is that if $x_n$ is too large, then $a/x_n$ will be smaller than the square root, and the mean value of $x_n$ and $a/x_n$ will be closer to the root than $x_n$ is. Similarly if $x_n$ is too small, $a/x_n$ is greater than the root and the mean of the sum is again closer than $x_n$ [2].   \n",
    "\n",
    "[1] Proof that $\\sqrt{2}$ is irrational ; https://www.homeschoolmath.net/teaching/proof_square_root_2_irrational.php  \n",
    "[2] Square roots via Newton's method ; https://math.mit.edu/~stevenj/18.335/newton-sqrt.pdf  \n",
    "\n",
    "Python code to demonstrate this, with a starting value of 1.5 (we know the square root of 2 is somewhere between 1 and 2), is given by :"
   ]
  },
  {
   "cell_type": "code",
   "execution_count": 14,
   "metadata": {},
   "outputs": [
    {
     "name": "stdout",
     "output_type": "stream",
     "text": [
      "1.414213562373095\n",
      "1.9999999999999996\n"
     ]
    }
   ],
   "source": [
    "# Approximate square root of 2 with a starting value of 1.5, using Newton's method\n",
    "# We know the square root will be between 1 and 2, so we'll start at 1.5\n",
    "ix = 1.5\n",
    "new = 0\n",
    "# Keep looping until the value produced by the last iteration equals that of the previous iteration\n",
    "while (new != ix):\n",
    "  new = ix\n",
    "  ix = 0.5*(ix+2/ix)\n",
    "# Display the result    \n",
    "print(ix)\n",
    "print(ix*ix)\n"
   ]
  },
  {
   "cell_type": "markdown",
   "metadata": {},
   "source": [
    "We see from running the above code that the square root is only calculated to 15 decimal places, and if we square the resulting value it doesn't quite equal 2. This is because of limitations in floating point arithmetic (arithmetic on non-whole numbers).\n",
    "For example the decimal value 0.1 cannot be expressed exactly using the binary system employed by computers - it can only be approximated. This is true for all languages, not just Python.  \n",
    "Floating point arithmetic in Python only provides accuracy to about 15 decimal places [3]. Integer arithmetic in Python however does not have this same level of constraint - the size of stored numbers is only restricted by hardware limitations [4].  \n",
    "In order to achieve our required accuracy therefore we need to ensure all operations are carried out on integers, and not floating point numbers. We will replace the multiplication in the method above by 0.5 (a floating point number) with division by 2, and use the floor division operator '//' which returns the integer part of the result [5] instead of the simple division operator '/'. \n",
    "\n",
    "To obtain 100 decimal places using Newton's method we will need to start with an integer squared value containing the required\n",
    "number (2 in this case) followed by 200 zeros (as $x^n * x^n = x^{2n}$). When we have the square root of this (to the accuracy of an integer followed by 100 zeros) we will format the result to insert a decimal point after the whole number part of the answer.  \n",
    "\n",
    "(The created function is called 'sqrt2' as that's what we're told to do, but it will allow a positive integer argument so that \n",
    " it can be tested against a number we know the exact root of - 4)\n",
    "\n",
    "[3] Floating point arithmetic: issues and limitations ; https://python.readthedocs.io/en/latest/tutorial/floatingpoint.html  \n",
    "[4] Numbers in Python; https://realpython.com/python-numbers/  \n",
    "[5] Floor division; https://python-reference.readthedocs.io/en/latest/docs/operators/floor_division.html\n"
   ]
  },
  {
   "cell_type": "code",
   "execution_count": 15,
   "metadata": {
    "scrolled": true
   },
   "outputs": [
    {
     "name": "stdout",
     "output_type": "stream",
     "text": [
      "\n",
      "Square roots of  4  - \n",
      "(Number of decimal places - 100 )\n",
      "+ 2.0000000000000000000000000000000000000000000000000000000000000000000000000000000000000000000000000000\n",
      "- 2.0000000000000000000000000000000000000000000000000000000000000000000000000000000000000000000000000000\n",
      "\n",
      "Square roots of  2  - \n",
      "(Number of decimal places - 100 )\n",
      "+ 1.4142135623730950488016887242096980785696718753769480731766797379907324784621070388503875343276415727\n",
      "- 1.4142135623730950488016887242096980785696718753769480731766797379907324784621070388503875343276415727\n"
     ]
    }
   ],
   "source": [
    "def sqrt2(inum):\n",
    "# Calculate the square root of an input positive integer to 100 decimal places.\n",
    "\n",
    "# Create an integer of value 'inum' followed by 200 zeros (by creating a string and converting it to an integer).\n",
    "# We will find the square root of this number, and then format it to appear as a decimal value with 100 decimal places.\n",
    "\n",
    "  temp = str(inum) + (200*\"0\")\n",
    "  squared = int(temp)\n",
    "  \n",
    "# Create an integer of value 1 followed by 100 zeros. Dividing the square root by this value to give the integer part of the \n",
    "# square root provides the length of the integer part in digits (not strictly needed here as we know the integer part of the \n",
    "# square root of 2 will be one digit long, but it makes it easy to apply the code to other positive integers if desired). \n",
    "  temp = \"1\" + (100*\"0\")\n",
    "  divisor = int(temp)\n",
    "\n",
    "# Use Newton's method to get an approximation of the square root\n",
    "# This uses the iteration x(n+1) = 0.5(x(n) + (a/x(n))), where 'a' is the number whose square root we are finding, x(n) is the \n",
    "# n'th estimate, and x(n+1) is the subsequent approximation. A simple explanation of how it works is that if 'x(n)' is too \n",
    "# large, then a/x(n) will be smaller than the square root, and the mean value of x(n) and a/x(n) will be closer to the root \n",
    "# than x(n) is. Similarly if x(n) is too small, a/x(n) is greater than the root and the mean of the sum is again \n",
    "# closer than x(n).\n",
    "\n",
    "# Keep looping until there is no change in the value of the root from one iteration to the next\n",
    "# Avoid generating floating point numbers by using the floor division operator (divide by 2 rather than multiply by 0.5) - in \n",
    "# this way we can handle very large integers without losing accuracy.\n",
    "  root = 1\n",
    "  saved = 0\n",
    "  while (saved != root):\n",
    "    saved = root\n",
    "    root = (saved + squared//saved)//2\n",
    "\n",
    "# We now have the approximate root of '2' followed by 200 zeros.\n",
    "# We can't just divide to get a floating point number as we then lose the required accuracy, so we convert to a string and \n",
    "# stick the decimal point in the required place (after the first digit in this case).\n",
    "  ans = str(root)\n",
    "\n",
    "# Get the whole number part of the answer by dividing by the number '1' followed by 100 zeros, and find its length (so we can\n",
    "# put the decimal place in the right position in the final answer).\n",
    "  whole = root//divisor\n",
    "  i=len(str(whole))\n",
    "  wlen=i\n",
    "  \n",
    "# Loop through all the digits in the answer, adding them to the string 'sqr', and putting a decimal point in after the integer \n",
    "# part\n",
    "  sqr=\"\"\n",
    "  for d in ans:\n",
    "    i-=1\n",
    "    sqr+=d\n",
    "# Put the decimal point in after the whole number part    \n",
    "    if i == 0:\n",
    "      sqr+=\".\"\n",
    "\n",
    "# Display the answer (+ve and -ve values), and its length (just to illustrate that it is actually to 100 decimal places).\n",
    "# Subtract 1 for the decimal point, and the length of the integer part of the value, from the overall length, to get the \n",
    "# number of decimal places.\n",
    "  print(\"\\nSquare roots of \",inum,\" - \")\n",
    "  print(\"(Number of decimal places -\",(len(sqr)-1-wlen),\")\") \n",
    "  print(\"+\",sqr)\n",
    "  print(\"-\",sqr) \n",
    "\n",
    "# Call the function to calculate the square root of 4, which we know is exactly 2, to check it first\n",
    "sqrt2(4)\n",
    "\n",
    "# Now get the required square root (of 2)\n",
    "sqrt2(2)"
   ]
  },
  {
   "cell_type": "code",
   "execution_count": null,
   "metadata": {},
   "outputs": [],
   "source": []
  }
 ],
 "metadata": {
  "kernelspec": {
   "display_name": "Python 3",
   "language": "python",
   "name": "python3"
  },
  "language_info": {
   "codemirror_mode": {
    "name": "ipython",
    "version": 3
   },
   "file_extension": ".py",
   "mimetype": "text/x-python",
   "name": "python",
   "nbconvert_exporter": "python",
   "pygments_lexer": "ipython3",
   "version": "3.8.3"
  }
 },
 "nbformat": 4,
 "nbformat_minor": 4
}
