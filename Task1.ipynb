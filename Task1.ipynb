{
 "cells": [
  {
   "cell_type": "markdown",
   "metadata": {},
   "source": [
    "# GMIT HDip Data Analysis 2020. Machine Learning and Statistics  \n",
    "\n",
    "### Task 1 : Obtain approximation of $\\sqrt{2}$ to 100 decimal places in Python (without using library functions)\n"
   ]
  },
  {
   "cell_type": "markdown",
   "metadata": {},
   "source": [
    "$\\sqrt{2}$ is an irrational number - it cannot be rendered exactly as a fraction, or in decimal notation, no matter how many decimal places are specified [1].   \n",
    "One way of approximating the value is provided by Newton's Method. An iteration using the formula $$x_{n+1} = \\frac{1}{2}(x_n + \\frac{a}{x_n}) $$ approximates the $\\sqrt{a}$, with each subsequent value of $x_{n+1}$ being closer to the actual value than $x_n$. A simple explanation of how it works is that if $x_n$ is too large, then $a/x_n$ will be smaller than the square root, and the mean value of $x_n$ and $a/x_n$ will be closer to the root than $x_n$ is. Similarly if $x_n$ is too small, $a/x_n$ is greater than the root and the mean of the sum is again closer than $x_n$ [2].   \n",
    "\n",
    "[1] Proof that $\\sqrt{2}$ is irrational ; https://www.homeschoolmath.net/teaching/proof_square_root_2_irrational.php  \n",
    "[2] Square roots via Newton's method ; https://math.mit.edu/~stevenj/18.335/newton-sqrt.pdf  \n",
    "\n",
    "Python code to demonstrate this, with a starting value of 1.5, is given by :"
   ]
  },
  {
   "cell_type": "code",
   "execution_count": 2,
   "metadata": {},
   "outputs": [
    {
     "name": "stdout",
     "output_type": "stream",
     "text": [
      "1.414213562373095\n",
      "1.9999999999999996\n"
     ]
    }
   ],
   "source": [
    "# Approximate square root of 2 with a starting value of 1.5, using Newton's method\n",
    "# We know the square root will be between 1 and 2, so we'll start at 1.5\n",
    "ix = 1.5\n",
    "new = 0\n",
    "# Keep looping until the value produced by the last iteration equals that of the previous iteration\n",
    "while (new != ix):\n",
    "  new = ix\n",
    "  ix = 0.5*(ix+2/ix)\n",
    "# Display the result    \n",
    "print(ix)\n",
    "print(ix*ix)\n"
   ]
  },
  {
   "cell_type": "markdown",
   "metadata": {},
   "source": [
    "We see from running the above code that the square root is only calculated to 15 decimal places, and if we square the resulting value it doesn't quite equal 2. This is because of limitations in floating point point arithmetic (arithmetic on non-whole numbers).\n",
    "For example the decimal value 0.1 cannot be expressed exactly using the binary system employed by computers - it can only be approximated. This is true for all languages, not just Python.  \n",
    "Floating point arithmetic in Python only provides accuracy to about 15 decimal places [3]. Integer arithmetic in Python however does not have this same level of constraint - the size of stored numbers is only restricted by hardware limitations [4].  \n",
    "In order to achieve our required accuracy therefore we need to ensure all operations are carried out on integers, and not floating point numbers. We will replace the multiplication in the method above by 0.5 (a floating point number) with division by 2, and use the floor division operator '//' which returns the integer part of the result [5] instead of the simple division operator '/'. \n",
    "\n",
    "To obtain 100 decimal places using Newton's method we will need to start with an integer squared value containing the required\n",
    "number (2 in this case) followed by 200 zeros (as $x^n * x^n = x^{2n}$). When we have the square root of this (to the accuracy of an integer followed by 100 zeros) we will format the result to insert a decimal point after the whole number part of the answer. \n",
    "\n",
    "[3] Floating point arithmetic: issues and limitations ; https://python.readthedocs.io/en/latest/tutorial/floatingpoint.html  \n",
    "[4] Numbers in Python; https://realpython.com/python-numbers/  \n",
    "[5] Floor division; https://python-reference.readthedocs.io/en/latest/docs/operators/floor_division.html\n"
   ]
  },
  {
   "cell_type": "code",
   "execution_count": null,
   "metadata": {},
   "outputs": [],
   "source": []
  }
 ],
 "metadata": {
  "kernelspec": {
   "display_name": "Python 3",
   "language": "python",
   "name": "python3"
  },
  "language_info": {
   "codemirror_mode": {
    "name": "ipython",
    "version": 3
   },
   "file_extension": ".py",
   "mimetype": "text/x-python",
   "name": "python",
   "nbconvert_exporter": "python",
   "pygments_lexer": "ipython3",
   "version": "3.8.3"
  }
 },
 "nbformat": 4,
 "nbformat_minor": 4
}
