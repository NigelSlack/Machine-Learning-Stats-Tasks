{
 "cells": [
  {
   "cell_type": "markdown",
   "metadata": {},
   "source": [
    "# GMIT HDip Data Analysis 2020. Machine Learning and Statistics Task 1\n",
    "\n",
    "## Obtain approximation of $\\sqrt{2}$ to 100 decimal places in Python (without using library functions)\n"
   ]
  },
  {
   "cell_type": "markdown",
   "metadata": {},
   "source": [
    "$\\sqrt{2}$ is an irrational number - it cannot be rendered exactly as a fraction, or in decimal notation, no matter how many decimal places are specified [1].   \n",
    "One way of approximating the value is provided by Newton's Method. An iteration using the formula $$x_{n+1} = \\frac{1}{2}(x_n + \\frac{a}{x_n}) $$ approximates the $\\sqrt{a}$, with each subsequent value of $x_{n+1}$ being closer to the actual value than $x_n$ [2].  \n",
    "Python code to perform this :\n",
    "\n",
    "[1] Proof that $\\sqrt{2}$ is irrational ; https://www.homeschoolmath.net/teaching/proof_square_root_2_irrational.php  \n",
    "[2] Square roots via Newton's method ; https://math.mit.edu/~stevenj/18.335/newton-sqrt.pdf"
   ]
  },
  {
   "cell_type": "code",
   "execution_count": 1,
   "metadata": {},
   "outputs": [
    {
     "name": "stdout",
     "output_type": "stream",
     "text": [
      "1.414213562373095\n"
     ]
    }
   ],
   "source": [
    "# Approximate square root of 2 using 20 iterations of Newton's method\n",
    "ix = 2\n",
    "for i in range(1, 20):\n",
    "  ix = 0.5*(ix+2/ix)\n",
    "print(ix)\n"
   ]
  },
  {
   "cell_type": "code",
   "execution_count": null,
   "metadata": {},
   "outputs": [],
   "source": []
  }
 ],
 "metadata": {
  "kernelspec": {
   "display_name": "Python 3",
   "language": "python",
   "name": "python3"
  },
  "language_info": {
   "codemirror_mode": {
    "name": "ipython",
    "version": 3
   },
   "file_extension": ".py",
   "mimetype": "text/x-python",
   "name": "python",
   "nbconvert_exporter": "python",
   "pygments_lexer": "ipython3",
   "version": "3.8.3"
  }
 },
 "nbformat": 4,
 "nbformat_minor": 4
}
